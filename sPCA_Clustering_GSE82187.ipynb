{
 "cells": [
  {
   "cell_type": "code",
   "execution_count": 2,
   "id": "f2ebaefb-04fc-4f6f-8188-14488c02a91c",
   "metadata": {},
   "outputs": [],
   "source": [
    "import numpy as np\n",
    "import pandas as pd\n",
    "import warnings\n",
    "warnings.filterwarnings(\"ignore\")"
   ]
  },
  {
   "cell_type": "code",
   "execution_count": 3,
   "id": "16f7c2d9-5bc7-4a4b-9f5e-63b6e39b0569",
   "metadata": {},
   "outputs": [],
   "source": [
    "# def SPCA_Algorithm(xMat,beta,k,n):\n",
    "#     obj1 = 0\n",
    "#     obj2 = 0\n",
    "#     thresh = 1e-50\n",
    "#     V = np.eye(n)  # (500, 500)\n",
    "#     vMat = np.mat(V)  # (500, 500)\n",
    "#     for m in range(0, 10):\n",
    "#         Z = -(xMat.T @ xMat) + beta * vMat   # (643, 643)\n",
    "#         Z_eigVals, Z_eigVects = np.linalg.eig(np.mat(Z))\n",
    "#         eigValIndice = np.argsort(Z_eigVals)\n",
    "#         n_eigValIndice = eigValIndice[0:k]\n",
    "#         n_Z_eigVect = Z_eigVects[:, n_eigValIndice]\n",
    "#         Q = np.array(n_Z_eigVect)  # (643, 3)\n",
    "#         q = np.linalg.norm(Q, ord=2, axis=1)\n",
    "#         qq = 1.0 / (q * 2)\n",
    "#         VV = np.diag(qq)  # (643, 643)\n",
    "#         vMat = np.mat(VV)  # (643, 643)\n",
    "#         qMat = np.mat(Q)  # (643, 3)\n",
    "#         Y = xMat * qMat  # (20502, 3)\n",
    "#         # obj1 = (np.linalg.norm(xMat - Y * qMat.T, ord='fro')) ** 2 + alpha * (\n",
    "#         #     np.linalg.norm(bMat - A * qMat.T, ord='fro')) ** 2 + beta * np.trace(qMat.T * vMat * qMat) + garma * np.trace(qMat.T * laplace * qMat)\n",
    "#         obj1 = np.linalg.norm(qMat)\n",
    "#         if m > 0:\n",
    "#             diff = obj2 - obj1\n",
    "#             if diff < thresh:\n",
    "#                 break\n",
    "#         obj2 = obj1\n",
    "#     return Y"
   ]
  },
  {
   "cell_type": "code",
   "execution_count": 4,
   "id": "0c4bca48-db1d-488e-ae08-ec4f47cb23e0",
   "metadata": {},
   "outputs": [],
   "source": [
    "# def SPCA_cal_projections(X_data,beta1, k_d):\n",
    "#     # nclass = 2\n",
    "#     # nclass = B_data.shape[1]\n",
    "#     n = len(X_data)  # 500\n",
    "#     Y= SPCA_Algorithm(X_data.transpose(), beta1, k_d, n)\n",
    "#     return Y"
   ]
  },
  {
   "cell_type": "code",
   "execution_count": 5,
   "id": "5cebf1dc-abf1-480d-a224-fd1aeeccfa52",
   "metadata": {},
   "outputs": [],
   "source": [
    "import gzip\n",
    "import numpy as np\n",
    "import csv, os\n",
    "import pandas as pd\n",
    "from os import listdir\n",
    "from os.path import isfile, join\n",
    "import gzip\n",
    "import sys"
   ]
  },
  {
   "cell_type": "code",
   "execution_count": 6,
   "id": "4b791703-1fa6-4b7f-9234-152ce5cc3a14",
   "metadata": {},
   "outputs": [
    {
     "data": {
      "text/plain": [
       "['GSE82187_cast_all_forGEO.csv.gz',\n",
       " 'GSE82187_process.py',\n",
       " '.ipynb_checkpoints',\n",
       " 'GSE82187_SraRunTable.txt',\n",
       " 'GSE82187_meta.csv',\n",
       " 'GSE82187_sample.csv']"
      ]
     },
     "execution_count": 6,
     "metadata": {},
     "output_type": "execute_result"
    }
   ],
   "source": [
    "import os\n",
    "os.getcwd()\n",
    "os.listdir('GSE82187')"
   ]
  },
  {
   "cell_type": "code",
   "execution_count": 7,
   "id": "f97fa496-d2de-4be3-989e-c28646092049",
   "metadata": {},
   "outputs": [
    {
     "name": "stdout",
     "output_type": "stream",
     "text": [
      "Output directory already exists.\n"
     ]
    }
   ],
   "source": [
    "import os\n",
    "import pandas as pd\n",
    "\n",
    "# Set the dataset name\n",
    "data = 'GSE82187'\n",
    "\n",
    "# Paths for input and output\n",
    "inpath = './GSE82187/'  # Folder where your raw data is located\n",
    "outpath = f'./{data}_output/'  # Output directory (optional)\n",
    "\n",
    "# Create the output directory if it doesn't exist\n",
    "try:\n",
    "    os.makedirs(outpath)\n",
    "except FileExistsError:\n",
    "    print(\"Output directory already exists.\")"
   ]
  },
  {
   "cell_type": "code",
   "execution_count": 8,
   "id": "ffd2bc90-7167-47b5-93a8-5a58f2d522af",
   "metadata": {},
   "outputs": [],
   "source": [
    "# Load meta data (GSE82187_meta.csv)\n",
    "meta = pd.read_csv(os.path.join(inpath, data + '_meta.csv'))\n",
    "\n",
    "# Load sample data (GSE82187_sample.csv)\n",
    "aux = pd.read_csv(os.path.join(inpath, data + '_sample.csv'))\n",
    "\n",
    "# Load raw expression data from .csv.gz file\n",
    "raw_data = pd.read_csv(os.path.join(inpath, 'GSE82187_cast_all_forGEO.csv.gz'))"
   ]
  },
  {
   "cell_type": "code",
   "execution_count": 23,
   "id": "8b1d848c-6545-4a52-b0a3-7a0817e90f7d",
   "metadata": {},
   "outputs": [
    {
     "data": {
      "text/plain": [
       "0                     [1-0-0-0-BTN22-C34-8ul-1]\n",
       "1       [1-0-0-0-BTN24-C29-18ul-IL5195-708-502]\n",
       "2       [1-0-0-0-BTN24-C59-22ul-IL5195-710-505]\n",
       "3       [1-0-0-0-BTN24-C70-12ul-IL5195-709-508]\n",
       "4        [1-0-0-0-BTN24-C76-8ul-IL5195-701-507]\n",
       "                         ...                   \n",
       "1203          [H9_1000700401-OGC7-coc_1_12ul_1]\n",
       "1204         [H9_1000700602-OGC11-sal_1_10ul_1]\n",
       "1205          [H9_1000701001-OGC14-sal_1_6ul_1]\n",
       "1206          [H9_1000701201-OGC16-sal_1_6ul_1]\n",
       "1207          [H9_1000701204-OGC16-sal_1_4ul_1]\n",
       "Name: cell.name, Length: 1208, dtype: object"
      ]
     },
     "execution_count": 23,
     "metadata": {},
     "output_type": "execute_result"
    }
   ],
   "source": [
    "raw_data[\"cell.name\"].str.split()"
   ]
  },
  {
   "cell_type": "code",
   "execution_count": 15,
   "id": "279888c2-6092-4ee0-9e5f-cbb2fcde4817",
   "metadata": {},
   "outputs": [
    {
     "data": {
      "text/html": [
       "<div>\n",
       "<style scoped>\n",
       "    .dataframe tbody tr th:only-of-type {\n",
       "        vertical-align: middle;\n",
       "    }\n",
       "\n",
       "    .dataframe tbody tr th {\n",
       "        vertical-align: top;\n",
       "    }\n",
       "\n",
       "    .dataframe thead th {\n",
       "        text-align: right;\n",
       "    }\n",
       "</style>\n",
       "<table border=\"1\" class=\"dataframe\">\n",
       "  <thead>\n",
       "    <tr style=\"text-align: right;\">\n",
       "      <th></th>\n",
       "      <th>Unnamed: 0</th>\n",
       "      <th>cell.name</th>\n",
       "      <th>type</th>\n",
       "      <th>experiment</th>\n",
       "      <th>protocol</th>\n",
       "      <th>0610005C13Rik</th>\n",
       "      <th>0610007C21Rik</th>\n",
       "      <th>0610007L01Rik</th>\n",
       "      <th>0610007N19Rik</th>\n",
       "      <th>0610007P08Rik</th>\n",
       "      <th>...</th>\n",
       "      <th>Xkr9</th>\n",
       "      <th>Xlr4c</th>\n",
       "      <th>Zfp352</th>\n",
       "      <th>Zfp366</th>\n",
       "      <th>Zfp36l3</th>\n",
       "      <th>Zfp474</th>\n",
       "      <th>Zfp735</th>\n",
       "      <th>Zfp936</th>\n",
       "      <th>Zic5</th>\n",
       "      <th>Zscan10</th>\n",
       "    </tr>\n",
       "  </thead>\n",
       "  <tbody>\n",
       "    <tr>\n",
       "      <th>0</th>\n",
       "      <td>1</td>\n",
       "      <td>1-0-0-0-BTN22-C34-8ul-1</td>\n",
       "      <td>Neuron</td>\n",
       "      <td>BTN22</td>\n",
       "      <td>Mic-scRNA-Seq</td>\n",
       "      <td>0.0</td>\n",
       "      <td>0.000000</td>\n",
       "      <td>0.000000</td>\n",
       "      <td>0.0</td>\n",
       "      <td>0.000000</td>\n",
       "      <td>...</td>\n",
       "      <td>0.0</td>\n",
       "      <td>0.0</td>\n",
       "      <td>0.0</td>\n",
       "      <td>0.0</td>\n",
       "      <td>0.0</td>\n",
       "      <td>0.0</td>\n",
       "      <td>0</td>\n",
       "      <td>0.0</td>\n",
       "      <td>0.0</td>\n",
       "      <td>0.0</td>\n",
       "    </tr>\n",
       "    <tr>\n",
       "      <th>1</th>\n",
       "      <td>2</td>\n",
       "      <td>1-0-0-0-BTN24-C29-18ul-IL5195-708-502</td>\n",
       "      <td>Neuron</td>\n",
       "      <td>BTN24</td>\n",
       "      <td>Mic-scRNA-Seq</td>\n",
       "      <td>0.0</td>\n",
       "      <td>1.828000</td>\n",
       "      <td>0.000000</td>\n",
       "      <td>0.0</td>\n",
       "      <td>1.751656</td>\n",
       "      <td>...</td>\n",
       "      <td>0.0</td>\n",
       "      <td>0.0</td>\n",
       "      <td>0.0</td>\n",
       "      <td>0.0</td>\n",
       "      <td>0.0</td>\n",
       "      <td>0.0</td>\n",
       "      <td>0</td>\n",
       "      <td>0.0</td>\n",
       "      <td>0.0</td>\n",
       "      <td>0.0</td>\n",
       "    </tr>\n",
       "    <tr>\n",
       "      <th>2</th>\n",
       "      <td>3</td>\n",
       "      <td>1-0-0-0-BTN24-C59-22ul-IL5195-710-505</td>\n",
       "      <td>Neuron</td>\n",
       "      <td>BTN24</td>\n",
       "      <td>Mic-scRNA-Seq</td>\n",
       "      <td>0.0</td>\n",
       "      <td>2.016060</td>\n",
       "      <td>0.000000</td>\n",
       "      <td>0.0</td>\n",
       "      <td>0.000000</td>\n",
       "      <td>...</td>\n",
       "      <td>0.0</td>\n",
       "      <td>0.0</td>\n",
       "      <td>0.0</td>\n",
       "      <td>0.0</td>\n",
       "      <td>0.0</td>\n",
       "      <td>0.0</td>\n",
       "      <td>0</td>\n",
       "      <td>0.0</td>\n",
       "      <td>0.0</td>\n",
       "      <td>0.0</td>\n",
       "    </tr>\n",
       "    <tr>\n",
       "      <th>3</th>\n",
       "      <td>4</td>\n",
       "      <td>1-0-0-0-BTN24-C70-12ul-IL5195-709-508</td>\n",
       "      <td>Neuron</td>\n",
       "      <td>BTN24</td>\n",
       "      <td>Mic-scRNA-Seq</td>\n",
       "      <td>0.0</td>\n",
       "      <td>2.547597</td>\n",
       "      <td>3.004959</td>\n",
       "      <td>0.0</td>\n",
       "      <td>0.000000</td>\n",
       "      <td>...</td>\n",
       "      <td>0.0</td>\n",
       "      <td>0.0</td>\n",
       "      <td>0.0</td>\n",
       "      <td>0.0</td>\n",
       "      <td>0.0</td>\n",
       "      <td>0.0</td>\n",
       "      <td>0</td>\n",
       "      <td>0.0</td>\n",
       "      <td>0.0</td>\n",
       "      <td>0.0</td>\n",
       "    </tr>\n",
       "    <tr>\n",
       "      <th>4</th>\n",
       "      <td>5</td>\n",
       "      <td>1-0-0-0-BTN24-C76-8ul-IL5195-701-507</td>\n",
       "      <td>Neuron</td>\n",
       "      <td>BTN24</td>\n",
       "      <td>Mic-scRNA-Seq</td>\n",
       "      <td>0.0</td>\n",
       "      <td>0.000000</td>\n",
       "      <td>0.000000</td>\n",
       "      <td>0.0</td>\n",
       "      <td>0.000000</td>\n",
       "      <td>...</td>\n",
       "      <td>0.0</td>\n",
       "      <td>0.0</td>\n",
       "      <td>0.0</td>\n",
       "      <td>0.0</td>\n",
       "      <td>0.0</td>\n",
       "      <td>0.0</td>\n",
       "      <td>0</td>\n",
       "      <td>0.0</td>\n",
       "      <td>0.0</td>\n",
       "      <td>0.0</td>\n",
       "    </tr>\n",
       "    <tr>\n",
       "      <th>...</th>\n",
       "      <td>...</td>\n",
       "      <td>...</td>\n",
       "      <td>...</td>\n",
       "      <td>...</td>\n",
       "      <td>...</td>\n",
       "      <td>...</td>\n",
       "      <td>...</td>\n",
       "      <td>...</td>\n",
       "      <td>...</td>\n",
       "      <td>...</td>\n",
       "      <td>...</td>\n",
       "      <td>...</td>\n",
       "      <td>...</td>\n",
       "      <td>...</td>\n",
       "      <td>...</td>\n",
       "      <td>...</td>\n",
       "      <td>...</td>\n",
       "      <td>...</td>\n",
       "      <td>...</td>\n",
       "      <td>...</td>\n",
       "      <td>...</td>\n",
       "    </tr>\n",
       "    <tr>\n",
       "      <th>1203</th>\n",
       "      <td>1204</td>\n",
       "      <td>H9_1000700401-OGC7-coc_1_12ul_1</td>\n",
       "      <td>Neuron</td>\n",
       "      <td>OGC07-sal</td>\n",
       "      <td>FACS-scRNA-Seq</td>\n",
       "      <td>0.0</td>\n",
       "      <td>1.911050</td>\n",
       "      <td>0.000000</td>\n",
       "      <td>0.0</td>\n",
       "      <td>0.000000</td>\n",
       "      <td>...</td>\n",
       "      <td>0.0</td>\n",
       "      <td>0.0</td>\n",
       "      <td>0.0</td>\n",
       "      <td>0.0</td>\n",
       "      <td>0.0</td>\n",
       "      <td>0.0</td>\n",
       "      <td>0</td>\n",
       "      <td>0.0</td>\n",
       "      <td>0.0</td>\n",
       "      <td>0.0</td>\n",
       "    </tr>\n",
       "    <tr>\n",
       "      <th>1204</th>\n",
       "      <td>1205</td>\n",
       "      <td>H9_1000700602-OGC11-sal_1_10ul_1</td>\n",
       "      <td>Neuron</td>\n",
       "      <td>OGC11-sal</td>\n",
       "      <td>FACS-scRNA-Seq</td>\n",
       "      <td>0.0</td>\n",
       "      <td>1.875535</td>\n",
       "      <td>2.183359</td>\n",
       "      <td>0.0</td>\n",
       "      <td>0.000000</td>\n",
       "      <td>...</td>\n",
       "      <td>0.0</td>\n",
       "      <td>0.0</td>\n",
       "      <td>0.0</td>\n",
       "      <td>0.0</td>\n",
       "      <td>0.0</td>\n",
       "      <td>0.0</td>\n",
       "      <td>0</td>\n",
       "      <td>0.0</td>\n",
       "      <td>0.0</td>\n",
       "      <td>0.0</td>\n",
       "    </tr>\n",
       "    <tr>\n",
       "      <th>1205</th>\n",
       "      <td>1206</td>\n",
       "      <td>H9_1000701001-OGC14-sal_1_6ul_1</td>\n",
       "      <td>Neuron</td>\n",
       "      <td>OGC14-sal</td>\n",
       "      <td>FACS-scRNA-Seq</td>\n",
       "      <td>0.0</td>\n",
       "      <td>1.953439</td>\n",
       "      <td>1.340484</td>\n",
       "      <td>0.0</td>\n",
       "      <td>0.000000</td>\n",
       "      <td>...</td>\n",
       "      <td>0.0</td>\n",
       "      <td>0.0</td>\n",
       "      <td>0.0</td>\n",
       "      <td>0.0</td>\n",
       "      <td>0.0</td>\n",
       "      <td>0.0</td>\n",
       "      <td>0</td>\n",
       "      <td>0.0</td>\n",
       "      <td>0.0</td>\n",
       "      <td>0.0</td>\n",
       "    </tr>\n",
       "    <tr>\n",
       "      <th>1206</th>\n",
       "      <td>1207</td>\n",
       "      <td>H9_1000701201-OGC16-sal_1_6ul_1</td>\n",
       "      <td>Neuron</td>\n",
       "      <td>OGC16-sal</td>\n",
       "      <td>FACS-scRNA-Seq</td>\n",
       "      <td>0.0</td>\n",
       "      <td>1.407535</td>\n",
       "      <td>0.000000</td>\n",
       "      <td>0.0</td>\n",
       "      <td>0.000000</td>\n",
       "      <td>...</td>\n",
       "      <td>0.0</td>\n",
       "      <td>0.0</td>\n",
       "      <td>0.0</td>\n",
       "      <td>0.0</td>\n",
       "      <td>0.0</td>\n",
       "      <td>0.0</td>\n",
       "      <td>0</td>\n",
       "      <td>0.0</td>\n",
       "      <td>0.0</td>\n",
       "      <td>0.0</td>\n",
       "    </tr>\n",
       "    <tr>\n",
       "      <th>1207</th>\n",
       "      <td>1208</td>\n",
       "      <td>H9_1000701204-OGC16-sal_1_4ul_1</td>\n",
       "      <td>Neuron</td>\n",
       "      <td>OGC16-sal</td>\n",
       "      <td>FACS-scRNA-Seq</td>\n",
       "      <td>0.0</td>\n",
       "      <td>1.753006</td>\n",
       "      <td>2.456482</td>\n",
       "      <td>0.0</td>\n",
       "      <td>0.000000</td>\n",
       "      <td>...</td>\n",
       "      <td>0.0</td>\n",
       "      <td>0.0</td>\n",
       "      <td>0.0</td>\n",
       "      <td>0.0</td>\n",
       "      <td>0.0</td>\n",
       "      <td>0.0</td>\n",
       "      <td>0</td>\n",
       "      <td>0.0</td>\n",
       "      <td>0.0</td>\n",
       "      <td>0.0</td>\n",
       "    </tr>\n",
       "  </tbody>\n",
       "</table>\n",
       "<p>1208 rows × 18845 columns</p>\n",
       "</div>"
      ],
      "text/plain": [
       "      Unnamed: 0                              cell.name    type experiment  \\\n",
       "0              1                1-0-0-0-BTN22-C34-8ul-1  Neuron      BTN22   \n",
       "1              2  1-0-0-0-BTN24-C29-18ul-IL5195-708-502  Neuron      BTN24   \n",
       "2              3  1-0-0-0-BTN24-C59-22ul-IL5195-710-505  Neuron      BTN24   \n",
       "3              4  1-0-0-0-BTN24-C70-12ul-IL5195-709-508  Neuron      BTN24   \n",
       "4              5   1-0-0-0-BTN24-C76-8ul-IL5195-701-507  Neuron      BTN24   \n",
       "...          ...                                    ...     ...        ...   \n",
       "1203        1204        H9_1000700401-OGC7-coc_1_12ul_1  Neuron  OGC07-sal   \n",
       "1204        1205       H9_1000700602-OGC11-sal_1_10ul_1  Neuron  OGC11-sal   \n",
       "1205        1206        H9_1000701001-OGC14-sal_1_6ul_1  Neuron  OGC14-sal   \n",
       "1206        1207        H9_1000701201-OGC16-sal_1_6ul_1  Neuron  OGC16-sal   \n",
       "1207        1208        H9_1000701204-OGC16-sal_1_4ul_1  Neuron  OGC16-sal   \n",
       "\n",
       "            protocol  0610005C13Rik  0610007C21Rik  0610007L01Rik  \\\n",
       "0      Mic-scRNA-Seq            0.0       0.000000       0.000000   \n",
       "1      Mic-scRNA-Seq            0.0       1.828000       0.000000   \n",
       "2      Mic-scRNA-Seq            0.0       2.016060       0.000000   \n",
       "3      Mic-scRNA-Seq            0.0       2.547597       3.004959   \n",
       "4      Mic-scRNA-Seq            0.0       0.000000       0.000000   \n",
       "...              ...            ...            ...            ...   \n",
       "1203  FACS-scRNA-Seq            0.0       1.911050       0.000000   \n",
       "1204  FACS-scRNA-Seq            0.0       1.875535       2.183359   \n",
       "1205  FACS-scRNA-Seq            0.0       1.953439       1.340484   \n",
       "1206  FACS-scRNA-Seq            0.0       1.407535       0.000000   \n",
       "1207  FACS-scRNA-Seq            0.0       1.753006       2.456482   \n",
       "\n",
       "      0610007N19Rik  0610007P08Rik  ...  Xkr9  Xlr4c  Zfp352  Zfp366  Zfp36l3  \\\n",
       "0               0.0       0.000000  ...   0.0    0.0     0.0     0.0      0.0   \n",
       "1               0.0       1.751656  ...   0.0    0.0     0.0     0.0      0.0   \n",
       "2               0.0       0.000000  ...   0.0    0.0     0.0     0.0      0.0   \n",
       "3               0.0       0.000000  ...   0.0    0.0     0.0     0.0      0.0   \n",
       "4               0.0       0.000000  ...   0.0    0.0     0.0     0.0      0.0   \n",
       "...             ...            ...  ...   ...    ...     ...     ...      ...   \n",
       "1203            0.0       0.000000  ...   0.0    0.0     0.0     0.0      0.0   \n",
       "1204            0.0       0.000000  ...   0.0    0.0     0.0     0.0      0.0   \n",
       "1205            0.0       0.000000  ...   0.0    0.0     0.0     0.0      0.0   \n",
       "1206            0.0       0.000000  ...   0.0    0.0     0.0     0.0      0.0   \n",
       "1207            0.0       0.000000  ...   0.0    0.0     0.0     0.0      0.0   \n",
       "\n",
       "      Zfp474  Zfp735  Zfp936  Zic5  Zscan10  \n",
       "0        0.0       0     0.0   0.0      0.0  \n",
       "1        0.0       0     0.0   0.0      0.0  \n",
       "2        0.0       0     0.0   0.0      0.0  \n",
       "3        0.0       0     0.0   0.0      0.0  \n",
       "4        0.0       0     0.0   0.0      0.0  \n",
       "...      ...     ...     ...   ...      ...  \n",
       "1203     0.0       0     0.0   0.0      0.0  \n",
       "1204     0.0       0     0.0   0.0      0.0  \n",
       "1205     0.0       0     0.0   0.0      0.0  \n",
       "1206     0.0       0     0.0   0.0      0.0  \n",
       "1207     0.0       0     0.0   0.0      0.0  \n",
       "\n",
       "[1208 rows x 18845 columns]"
      ]
     },
     "execution_count": 15,
     "metadata": {},
     "output_type": "execute_result"
    }
   ],
   "source": [
    "raw_data"
   ]
  },
  {
   "cell_type": "code",
   "execution_count": 26,
   "id": "c0351ee0-ea7a-4589-aadf-71ac0e737963",
   "metadata": {},
   "outputs": [
    {
     "data": {
      "text/plain": [
       "0       GSM2188962\n",
       "1       GSM2188962\n",
       "2       GSM2188962\n",
       "3       GSM2188962\n",
       "4       GSM2188963\n",
       "           ...    \n",
       "3769    GSM2190168\n",
       "3770    GSM2190168\n",
       "3771    GSM2190168\n",
       "3772    GSM2190168\n",
       "3773    GSM2190169\n",
       "Name: GEO_Accession (exp), Length: 3774, dtype: object"
      ]
     },
     "execution_count": 26,
     "metadata": {},
     "output_type": "execute_result"
    }
   ],
   "source": [
    "meta['GEO_Accession (exp)']"
   ]
  },
  {
   "cell_type": "code",
   "execution_count": 27,
   "id": "bba696a1-b667-435a-a84f-79374e94f371",
   "metadata": {},
   "outputs": [],
   "source": [
    "# filter out only 'Mic-scRNA-Seq' data items\n",
    "Exp_Name_list = []\n",
    "Cell_type_list = []\n",
    "for idx_p, protocol in enumerate(raw_data['protocol']):\n",
    "    if protocol == 'Mic-scRNA-Seq':\n",
    "        Exp_Name_list.append( raw_data['cell.name'][idx_p])\n",
    "        Cell_type_list.append(raw_data['type'][idx_p])"
   ]
  },
  {
   "cell_type": "code",
   "execution_count": 28,
   "id": "5302af87-ca55-4343-b068-a4d729e1bd01",
   "metadata": {},
   "outputs": [],
   "source": [
    "# assign \"accession\" to each experiement (name)\n",
    "Sample_Name_list = []\n",
    "for exp_name in Exp_Name_list:\n",
    "    found = False\n",
    "    for idx_s, sample in enumerate(aux['Accession']):\n",
    "        if exp_name in aux['Title'][idx_s]:\n",
    "            found = True\n",
    "            break\n",
    "    if found == False:\n",
    "        print('Exp name in raw data and aux file does not match')\n",
    "    Sample_Name_list.append(sample)"
   ]
  },
  {
   "cell_type": "code",
   "execution_count": 29,
   "id": "fe84aa34-8004-4adc-86b2-eaa468142c87",
   "metadata": {},
   "outputs": [],
   "source": [
    "# validation\n",
    "no_dup = 0\n",
    "for idx_s, sample in enumerate(Sample_Name_list):\n",
    "    Exp_Name_list[idx_s] = Exp_Name_list[idx_s].split()[0]\n",
    "    found = False\n",
    "    for idx, geo in enumerate(meta['GEO_Accession (exp)']):\n",
    "        if sample == geo:\n",
    "            if found == False:\n",
    "                found = True\n",
    "                index = idx\n",
    "            else:\n",
    "                no_dup += 1\n",
    "                if meta['major_cell_type'][idx] != meta['major_cell_type'][index]:\n",
    "                    print('cell type of duplicate does not match!')\n",
    "                    break\n",
    "    if found == False:\n",
    "        print('Sample name not found in meta data')"
   ]
  },
  {
   "cell_type": "code",
   "execution_count": 30,
   "id": "ca696e6d-457d-42b7-85e1-1912edb3b090",
   "metadata": {},
   "outputs": [
    {
     "name": "stdout",
     "output_type": "stream",
     "text": [
      "Number of cells: 705\n"
     ]
    }
   ],
   "source": [
    "unique = list(set(Cell_type_list))\n",
    "unique.sort()\n",
    "\n",
    "N = len(Sample_Name_list)\n",
    "print('Number of cells:', N)"
   ]
  },
  {
   "cell_type": "code",
   "execution_count": 31,
   "id": "7a75e753-9a7c-4556-93e8-4699046bd6f1",
   "metadata": {},
   "outputs": [],
   "source": [
    "#Do a quick check to make sure that raw data and labels match\n",
    "\n",
    "cell_name_check = list(raw_data['cell.name'])\n",
    "cell_type_check = list(raw_data['type'])"
   ]
  },
  {
   "cell_type": "code",
   "execution_count": 40,
   "id": "5f889dc9-b0f5-40ea-a2d0-951cdac37ff3",
   "metadata": {},
   "outputs": [
    {
     "data": {
      "text/plain": [
       "(1208, 705)"
      ]
     },
     "execution_count": 40,
     "metadata": {},
     "output_type": "execute_result"
    }
   ],
   "source": [
    "len(cell_name_check), len(Exp_Name_list)"
   ]
  },
  {
   "cell_type": "code",
   "execution_count": 41,
   "id": "9224a369-79e9-4a02-8eba-8a9a8c946d1c",
   "metadata": {},
   "outputs": [
    {
     "data": {
      "text/plain": [
       "(1208, 705)"
      ]
     },
     "execution_count": 41,
     "metadata": {},
     "output_type": "execute_result"
    }
   ],
   "source": [
    "len(cell_type_check), len(Cell_type_list)"
   ]
  },
  {
   "cell_type": "code",
   "execution_count": 32,
   "id": "4654f33e-35d5-4a26-86c4-d23484878827",
   "metadata": {},
   "outputs": [],
   "source": [
    "#make sure that the cell names match\n",
    "if cell_name_check == Exp_Name_list:\n",
    "    print('Cell name of raw data and meta matches!!')\n",
    "if cell_type_check == Cell_type_list:\n",
    "    print('Cell type of raw data and meta matches!!')"
   ]
  },
  {
   "cell_type": "code",
   "execution_count": 47,
   "id": "52b6e3da-b4cc-4328-add3-680cfe57da08",
   "metadata": {},
   "outputs": [
    {
     "data": {
      "text/html": [
       "<div>\n",
       "<style scoped>\n",
       "    .dataframe tbody tr th:only-of-type {\n",
       "        vertical-align: middle;\n",
       "    }\n",
       "\n",
       "    .dataframe tbody tr th {\n",
       "        vertical-align: top;\n",
       "    }\n",
       "\n",
       "    .dataframe thead th {\n",
       "        text-align: right;\n",
       "    }\n",
       "</style>\n",
       "<table border=\"1\" class=\"dataframe\">\n",
       "  <thead>\n",
       "    <tr style=\"text-align: right;\">\n",
       "      <th></th>\n",
       "      <th>Unnamed: 0</th>\n",
       "      <th>cell.name</th>\n",
       "      <th>type</th>\n",
       "      <th>experiment</th>\n",
       "      <th>protocol</th>\n",
       "      <th>0610005C13Rik</th>\n",
       "      <th>0610007C21Rik</th>\n",
       "      <th>0610007L01Rik</th>\n",
       "      <th>0610007N19Rik</th>\n",
       "      <th>0610007P08Rik</th>\n",
       "      <th>...</th>\n",
       "      <th>Xkr9</th>\n",
       "      <th>Xlr4c</th>\n",
       "      <th>Zfp352</th>\n",
       "      <th>Zfp366</th>\n",
       "      <th>Zfp36l3</th>\n",
       "      <th>Zfp474</th>\n",
       "      <th>Zfp735</th>\n",
       "      <th>Zfp936</th>\n",
       "      <th>Zic5</th>\n",
       "      <th>Zscan10</th>\n",
       "    </tr>\n",
       "  </thead>\n",
       "  <tbody>\n",
       "    <tr>\n",
       "      <th>0</th>\n",
       "      <td>1</td>\n",
       "      <td>1-0-0-0-BTN22-C34-8ul-1</td>\n",
       "      <td>Neuron</td>\n",
       "      <td>BTN22</td>\n",
       "      <td>Mic-scRNA-Seq</td>\n",
       "      <td>0.0</td>\n",
       "      <td>0.000000</td>\n",
       "      <td>0.000000</td>\n",
       "      <td>0.0</td>\n",
       "      <td>0.000000</td>\n",
       "      <td>...</td>\n",
       "      <td>0.0</td>\n",
       "      <td>0.0</td>\n",
       "      <td>0.0</td>\n",
       "      <td>0.0</td>\n",
       "      <td>0.0</td>\n",
       "      <td>0.0</td>\n",
       "      <td>0</td>\n",
       "      <td>0.0</td>\n",
       "      <td>0.0</td>\n",
       "      <td>0.0</td>\n",
       "    </tr>\n",
       "    <tr>\n",
       "      <th>1</th>\n",
       "      <td>2</td>\n",
       "      <td>1-0-0-0-BTN24-C29-18ul-IL5195-708-502</td>\n",
       "      <td>Neuron</td>\n",
       "      <td>BTN24</td>\n",
       "      <td>Mic-scRNA-Seq</td>\n",
       "      <td>0.0</td>\n",
       "      <td>1.828000</td>\n",
       "      <td>0.000000</td>\n",
       "      <td>0.0</td>\n",
       "      <td>1.751656</td>\n",
       "      <td>...</td>\n",
       "      <td>0.0</td>\n",
       "      <td>0.0</td>\n",
       "      <td>0.0</td>\n",
       "      <td>0.0</td>\n",
       "      <td>0.0</td>\n",
       "      <td>0.0</td>\n",
       "      <td>0</td>\n",
       "      <td>0.0</td>\n",
       "      <td>0.0</td>\n",
       "      <td>0.0</td>\n",
       "    </tr>\n",
       "    <tr>\n",
       "      <th>2</th>\n",
       "      <td>3</td>\n",
       "      <td>1-0-0-0-BTN24-C59-22ul-IL5195-710-505</td>\n",
       "      <td>Neuron</td>\n",
       "      <td>BTN24</td>\n",
       "      <td>Mic-scRNA-Seq</td>\n",
       "      <td>0.0</td>\n",
       "      <td>2.016060</td>\n",
       "      <td>0.000000</td>\n",
       "      <td>0.0</td>\n",
       "      <td>0.000000</td>\n",
       "      <td>...</td>\n",
       "      <td>0.0</td>\n",
       "      <td>0.0</td>\n",
       "      <td>0.0</td>\n",
       "      <td>0.0</td>\n",
       "      <td>0.0</td>\n",
       "      <td>0.0</td>\n",
       "      <td>0</td>\n",
       "      <td>0.0</td>\n",
       "      <td>0.0</td>\n",
       "      <td>0.0</td>\n",
       "    </tr>\n",
       "    <tr>\n",
       "      <th>3</th>\n",
       "      <td>4</td>\n",
       "      <td>1-0-0-0-BTN24-C70-12ul-IL5195-709-508</td>\n",
       "      <td>Neuron</td>\n",
       "      <td>BTN24</td>\n",
       "      <td>Mic-scRNA-Seq</td>\n",
       "      <td>0.0</td>\n",
       "      <td>2.547597</td>\n",
       "      <td>3.004959</td>\n",
       "      <td>0.0</td>\n",
       "      <td>0.000000</td>\n",
       "      <td>...</td>\n",
       "      <td>0.0</td>\n",
       "      <td>0.0</td>\n",
       "      <td>0.0</td>\n",
       "      <td>0.0</td>\n",
       "      <td>0.0</td>\n",
       "      <td>0.0</td>\n",
       "      <td>0</td>\n",
       "      <td>0.0</td>\n",
       "      <td>0.0</td>\n",
       "      <td>0.0</td>\n",
       "    </tr>\n",
       "    <tr>\n",
       "      <th>4</th>\n",
       "      <td>5</td>\n",
       "      <td>1-0-0-0-BTN24-C76-8ul-IL5195-701-507</td>\n",
       "      <td>Neuron</td>\n",
       "      <td>BTN24</td>\n",
       "      <td>Mic-scRNA-Seq</td>\n",
       "      <td>0.0</td>\n",
       "      <td>0.000000</td>\n",
       "      <td>0.000000</td>\n",
       "      <td>0.0</td>\n",
       "      <td>0.000000</td>\n",
       "      <td>...</td>\n",
       "      <td>0.0</td>\n",
       "      <td>0.0</td>\n",
       "      <td>0.0</td>\n",
       "      <td>0.0</td>\n",
       "      <td>0.0</td>\n",
       "      <td>0.0</td>\n",
       "      <td>0</td>\n",
       "      <td>0.0</td>\n",
       "      <td>0.0</td>\n",
       "      <td>0.0</td>\n",
       "    </tr>\n",
       "    <tr>\n",
       "      <th>...</th>\n",
       "      <td>...</td>\n",
       "      <td>...</td>\n",
       "      <td>...</td>\n",
       "      <td>...</td>\n",
       "      <td>...</td>\n",
       "      <td>...</td>\n",
       "      <td>...</td>\n",
       "      <td>...</td>\n",
       "      <td>...</td>\n",
       "      <td>...</td>\n",
       "      <td>...</td>\n",
       "      <td>...</td>\n",
       "      <td>...</td>\n",
       "      <td>...</td>\n",
       "      <td>...</td>\n",
       "      <td>...</td>\n",
       "      <td>...</td>\n",
       "      <td>...</td>\n",
       "      <td>...</td>\n",
       "      <td>...</td>\n",
       "      <td>...</td>\n",
       "    </tr>\n",
       "    <tr>\n",
       "      <th>1203</th>\n",
       "      <td>1204</td>\n",
       "      <td>H9_1000700401-OGC7-coc_1_12ul_1</td>\n",
       "      <td>Neuron</td>\n",
       "      <td>OGC07-sal</td>\n",
       "      <td>FACS-scRNA-Seq</td>\n",
       "      <td>0.0</td>\n",
       "      <td>1.911050</td>\n",
       "      <td>0.000000</td>\n",
       "      <td>0.0</td>\n",
       "      <td>0.000000</td>\n",
       "      <td>...</td>\n",
       "      <td>0.0</td>\n",
       "      <td>0.0</td>\n",
       "      <td>0.0</td>\n",
       "      <td>0.0</td>\n",
       "      <td>0.0</td>\n",
       "      <td>0.0</td>\n",
       "      <td>0</td>\n",
       "      <td>0.0</td>\n",
       "      <td>0.0</td>\n",
       "      <td>0.0</td>\n",
       "    </tr>\n",
       "    <tr>\n",
       "      <th>1204</th>\n",
       "      <td>1205</td>\n",
       "      <td>H9_1000700602-OGC11-sal_1_10ul_1</td>\n",
       "      <td>Neuron</td>\n",
       "      <td>OGC11-sal</td>\n",
       "      <td>FACS-scRNA-Seq</td>\n",
       "      <td>0.0</td>\n",
       "      <td>1.875535</td>\n",
       "      <td>2.183359</td>\n",
       "      <td>0.0</td>\n",
       "      <td>0.000000</td>\n",
       "      <td>...</td>\n",
       "      <td>0.0</td>\n",
       "      <td>0.0</td>\n",
       "      <td>0.0</td>\n",
       "      <td>0.0</td>\n",
       "      <td>0.0</td>\n",
       "      <td>0.0</td>\n",
       "      <td>0</td>\n",
       "      <td>0.0</td>\n",
       "      <td>0.0</td>\n",
       "      <td>0.0</td>\n",
       "    </tr>\n",
       "    <tr>\n",
       "      <th>1205</th>\n",
       "      <td>1206</td>\n",
       "      <td>H9_1000701001-OGC14-sal_1_6ul_1</td>\n",
       "      <td>Neuron</td>\n",
       "      <td>OGC14-sal</td>\n",
       "      <td>FACS-scRNA-Seq</td>\n",
       "      <td>0.0</td>\n",
       "      <td>1.953439</td>\n",
       "      <td>1.340484</td>\n",
       "      <td>0.0</td>\n",
       "      <td>0.000000</td>\n",
       "      <td>...</td>\n",
       "      <td>0.0</td>\n",
       "      <td>0.0</td>\n",
       "      <td>0.0</td>\n",
       "      <td>0.0</td>\n",
       "      <td>0.0</td>\n",
       "      <td>0.0</td>\n",
       "      <td>0</td>\n",
       "      <td>0.0</td>\n",
       "      <td>0.0</td>\n",
       "      <td>0.0</td>\n",
       "    </tr>\n",
       "    <tr>\n",
       "      <th>1206</th>\n",
       "      <td>1207</td>\n",
       "      <td>H9_1000701201-OGC16-sal_1_6ul_1</td>\n",
       "      <td>Neuron</td>\n",
       "      <td>OGC16-sal</td>\n",
       "      <td>FACS-scRNA-Seq</td>\n",
       "      <td>0.0</td>\n",
       "      <td>1.407535</td>\n",
       "      <td>0.000000</td>\n",
       "      <td>0.0</td>\n",
       "      <td>0.000000</td>\n",
       "      <td>...</td>\n",
       "      <td>0.0</td>\n",
       "      <td>0.0</td>\n",
       "      <td>0.0</td>\n",
       "      <td>0.0</td>\n",
       "      <td>0.0</td>\n",
       "      <td>0.0</td>\n",
       "      <td>0</td>\n",
       "      <td>0.0</td>\n",
       "      <td>0.0</td>\n",
       "      <td>0.0</td>\n",
       "    </tr>\n",
       "    <tr>\n",
       "      <th>1207</th>\n",
       "      <td>1208</td>\n",
       "      <td>H9_1000701204-OGC16-sal_1_4ul_1</td>\n",
       "      <td>Neuron</td>\n",
       "      <td>OGC16-sal</td>\n",
       "      <td>FACS-scRNA-Seq</td>\n",
       "      <td>0.0</td>\n",
       "      <td>1.753006</td>\n",
       "      <td>2.456482</td>\n",
       "      <td>0.0</td>\n",
       "      <td>0.000000</td>\n",
       "      <td>...</td>\n",
       "      <td>0.0</td>\n",
       "      <td>0.0</td>\n",
       "      <td>0.0</td>\n",
       "      <td>0.0</td>\n",
       "      <td>0.0</td>\n",
       "      <td>0.0</td>\n",
       "      <td>0</td>\n",
       "      <td>0.0</td>\n",
       "      <td>0.0</td>\n",
       "      <td>0.0</td>\n",
       "    </tr>\n",
       "  </tbody>\n",
       "</table>\n",
       "<p>1208 rows × 18845 columns</p>\n",
       "</div>"
      ],
      "text/plain": [
       "      Unnamed: 0                              cell.name    type experiment  \\\n",
       "0              1                1-0-0-0-BTN22-C34-8ul-1  Neuron      BTN22   \n",
       "1              2  1-0-0-0-BTN24-C29-18ul-IL5195-708-502  Neuron      BTN24   \n",
       "2              3  1-0-0-0-BTN24-C59-22ul-IL5195-710-505  Neuron      BTN24   \n",
       "3              4  1-0-0-0-BTN24-C70-12ul-IL5195-709-508  Neuron      BTN24   \n",
       "4              5   1-0-0-0-BTN24-C76-8ul-IL5195-701-507  Neuron      BTN24   \n",
       "...          ...                                    ...     ...        ...   \n",
       "1203        1204        H9_1000700401-OGC7-coc_1_12ul_1  Neuron  OGC07-sal   \n",
       "1204        1205       H9_1000700602-OGC11-sal_1_10ul_1  Neuron  OGC11-sal   \n",
       "1205        1206        H9_1000701001-OGC14-sal_1_6ul_1  Neuron  OGC14-sal   \n",
       "1206        1207        H9_1000701201-OGC16-sal_1_6ul_1  Neuron  OGC16-sal   \n",
       "1207        1208        H9_1000701204-OGC16-sal_1_4ul_1  Neuron  OGC16-sal   \n",
       "\n",
       "            protocol  0610005C13Rik  0610007C21Rik  0610007L01Rik  \\\n",
       "0      Mic-scRNA-Seq            0.0       0.000000       0.000000   \n",
       "1      Mic-scRNA-Seq            0.0       1.828000       0.000000   \n",
       "2      Mic-scRNA-Seq            0.0       2.016060       0.000000   \n",
       "3      Mic-scRNA-Seq            0.0       2.547597       3.004959   \n",
       "4      Mic-scRNA-Seq            0.0       0.000000       0.000000   \n",
       "...              ...            ...            ...            ...   \n",
       "1203  FACS-scRNA-Seq            0.0       1.911050       0.000000   \n",
       "1204  FACS-scRNA-Seq            0.0       1.875535       2.183359   \n",
       "1205  FACS-scRNA-Seq            0.0       1.953439       1.340484   \n",
       "1206  FACS-scRNA-Seq            0.0       1.407535       0.000000   \n",
       "1207  FACS-scRNA-Seq            0.0       1.753006       2.456482   \n",
       "\n",
       "      0610007N19Rik  0610007P08Rik  ...  Xkr9  Xlr4c  Zfp352  Zfp366  Zfp36l3  \\\n",
       "0               0.0       0.000000  ...   0.0    0.0     0.0     0.0      0.0   \n",
       "1               0.0       1.751656  ...   0.0    0.0     0.0     0.0      0.0   \n",
       "2               0.0       0.000000  ...   0.0    0.0     0.0     0.0      0.0   \n",
       "3               0.0       0.000000  ...   0.0    0.0     0.0     0.0      0.0   \n",
       "4               0.0       0.000000  ...   0.0    0.0     0.0     0.0      0.0   \n",
       "...             ...            ...  ...   ...    ...     ...     ...      ...   \n",
       "1203            0.0       0.000000  ...   0.0    0.0     0.0     0.0      0.0   \n",
       "1204            0.0       0.000000  ...   0.0    0.0     0.0     0.0      0.0   \n",
       "1205            0.0       0.000000  ...   0.0    0.0     0.0     0.0      0.0   \n",
       "1206            0.0       0.000000  ...   0.0    0.0     0.0     0.0      0.0   \n",
       "1207            0.0       0.000000  ...   0.0    0.0     0.0     0.0      0.0   \n",
       "\n",
       "      Zfp474  Zfp735  Zfp936  Zic5  Zscan10  \n",
       "0        0.0       0     0.0   0.0      0.0  \n",
       "1        0.0       0     0.0   0.0      0.0  \n",
       "2        0.0       0     0.0   0.0      0.0  \n",
       "3        0.0       0     0.0   0.0      0.0  \n",
       "4        0.0       0     0.0   0.0      0.0  \n",
       "...      ...     ...     ...   ...      ...  \n",
       "1203     0.0       0     0.0   0.0      0.0  \n",
       "1204     0.0       0     0.0   0.0      0.0  \n",
       "1205     0.0       0     0.0   0.0      0.0  \n",
       "1206     0.0       0     0.0   0.0      0.0  \n",
       "1207     0.0       0     0.0   0.0      0.0  \n",
       "\n",
       "[1208 rows x 18845 columns]"
      ]
     },
     "execution_count": 47,
     "metadata": {},
     "output_type": "execute_result"
    }
   ],
   "source": [
    "raw_data"
   ]
  },
  {
   "cell_type": "code",
   "execution_count": 48,
   "id": "41f8eeba-6033-479c-8074-2ee2034b4522",
   "metadata": {},
   "outputs": [],
   "source": [
    "#construct the gene list\n",
    "gene_list = list(raw_data.keys())[5:]   #the first row contains the gene info\n",
    "for idx_gene, gene in enumerate(gene_list):\n",
    "    gene_list[idx_gene] = gene.upper()"
   ]
  },
  {
   "cell_type": "code",
   "execution_count": 49,
   "id": "dfba830d-6cc2-4d00-ba0d-915d7f7a8a81",
   "metadata": {},
   "outputs": [],
   "source": [
    "MATRIX = raw_data.values[:705, 5:].astype(float)\n",
    "MATRIX = MATRIX.T"
   ]
  },
  {
   "cell_type": "code",
   "execution_count": 50,
   "id": "cbaafaa4-4473-4004-a72f-45ea7e7730de",
   "metadata": {},
   "outputs": [
    {
     "name": "stdout",
     "output_type": "stream",
     "text": [
      "Dimension of the gene and cell matches!\n"
     ]
    }
   ],
   "source": [
    "if MATRIX.shape[0] == len(gene_list) and MATRIX.shape[1] == N:\n",
    "    print('Dimension of the gene and cell matches!')\n",
    "else:\n",
    "    print('WARNING: DIMENSION OF THE MATRIX DOES NOT MATCH')"
   ]
  },
  {
   "cell_type": "code",
   "execution_count": 51,
   "id": "c024c50f-b372-4e87-99f8-b82be16bf4b5",
   "metadata": {},
   "outputs": [
    {
     "name": "stdout",
     "output_type": "stream",
     "text": [
      "Writing the Full Data>>>>>>>>>>>>>>>>>>>>>>>>>>>>>>>>>>>>>>>>>>>>\n"
     ]
    }
   ],
   "source": [
    "#Write data for full data\n",
    "#cell_type_unique = list(set(list(cell_type_full_list)))  #used if the cell_type makes sense\n",
    "print('Writing the Full Data>>>>>>>>>>>>>>>>>>>>>>>>>>>>>>>>>>>>>>>>>>>>')\n",
    "cell_type_unique = unique"
   ]
  },
  {
   "cell_type": "code",
   "execution_count": 52,
   "id": "403cfa10-efa2-4d85-ac3f-b0a8c1eac179",
   "metadata": {},
   "outputs": [],
   "source": [
    "#write the dictionary\n",
    "cell_type_dict = {i: cell_type_unique[i] for i in range(len(cell_type_unique)) }  #dict to map index to cell type\n",
    "cell_type_dict_rev = {cell_type_unique[i]:i for i in range(len(cell_type_unique))}  #reverse dict from cell type to index\n",
    "file = open(outpath + data + '_full_labeldict.txt', 'w')   #write a dictionary\n",
    "file.writelines(str(cell_type_dict) + ' \\n')\n",
    "file.writelines(str(cell_type_dict_rev) + ' \\n')\n",
    "file.close()\n",
    "cell_count =  {cell_type_unique[i]:0 for i in range(len(cell_type_unique))}\n",
    "Sample_Name_list = Sample_Name_list\n",
    "Cell_label_list = []"
   ]
  },
  {
   "cell_type": "code",
   "execution_count": 53,
   "id": "3971d7c4-d577-435f-9e54-f5823f22ce94",
   "metadata": {},
   "outputs": [],
   "source": [
    "for idx in range(len(Cell_type_list)):  #iterate over all the samples\n",
    "    cell_type = Cell_type_list[idx]     #get the current cell type\n",
    "    try:   #see if the cell type exist in the dictionary\n",
    "        cell_label = cell_type_dict_rev[cell_type]\n",
    "        cell_count[cell_type] += 1\n",
    "        Cell_label_list.append(cell_label)\n",
    "        found = True\n",
    "    except:\n",
    "        found = False    #if it is not found, print message\n",
    "        print(Sample_Name_list[idx], cell_type, 'Wrong cell type')"
   ]
  },
  {
   "cell_type": "code",
   "execution_count": 54,
   "id": "b00815cc-8aed-4bab-8beb-cc2b3c4b9c8b",
   "metadata": {},
   "outputs": [
    {
     "name": "stdout",
     "output_type": "stream",
     "text": [
      "Astro: 107\n",
      "Ependy-C: 18\n",
      "Ependy-Sec: 21\n",
      "Macrophage: 71\n",
      "Microglia: 48\n",
      "NSC: 7\n",
      "Neuron: 334\n",
      "OPC: 13\n",
      "Oligo: 43\n",
      "Vascular: 43\n"
     ]
    }
   ],
   "source": [
    "for k in cell_count.keys():\n",
    "    print('%s:'%k, cell_count[k])"
   ]
  },
  {
   "cell_type": "code",
   "execution_count": 55,
   "id": "2f2f9345-2820-4269-b56b-1f851f63a139",
   "metadata": {},
   "outputs": [],
   "source": [
    "with open(outpath + data + '_full_labels.csv', 'w', newline='') as csvfile:\n",
    "    writer = csv.writer(csvfile)\n",
    "    writer.writerow(['Sample Name', 'Cell type', 'Label'])\n",
    "    for idx in range(len(Cell_type_list)):\n",
    "        writer.writerow([Sample_Name_list[idx], Cell_type_list[idx] , Cell_label_list[idx]])"
   ]
  },
  {
   "cell_type": "code",
   "execution_count": 56,
   "id": "75ad1b37-8359-4efd-8277-88ec068158a1",
   "metadata": {},
   "outputs": [],
   "source": [
    "with open(outpath + data + '_full_gene.csv', \"w\", newline = '') as csv_file:\n",
    "    writer = csv.writer(csv_file, delimiter=',')\n",
    "    writer.writerow(['Index', 'Gene'])\n",
    "    for idx, gene in enumerate(gene_list):\n",
    "        writer.writerow([idx, gene])"
   ]
  },
  {
   "cell_type": "code",
   "execution_count": 57,
   "id": "a0d3bd5e-b73d-49d2-a33d-991e2276801d",
   "metadata": {},
   "outputs": [],
   "source": [
    "with open(outpath + data + '_full_data.csv', \"w\", newline = '') as csv_file: #output file for data\n",
    "    writer = csv.writer(csv_file, delimiter=',')\n",
    "    writer.writerow(['Row', 'Col', 'Val'])\n",
    "    for idx_col in range(len(Sample_Name_list)):\n",
    "        for idx_row in range(len(gene_list)):\n",
    "            if MATRIX[idx_row, idx_col] > 0:\n",
    "                writer.writerow([idx_row, idx_col, MATRIX[idx_row, idx_col]])"
   ]
  },
  {
   "cell_type": "code",
   "execution_count": 58,
   "id": "b9bcd3a8-7a69-46af-bcdc-53e2827b06d2",
   "metadata": {},
   "outputs": [],
   "source": [
    "with open(outpath + data + '_full_X.csv', \"w\", newline = '') as csv_file: #output file for data\n",
    "    writer = csv.writer(csv_file, delimiter=',')\n",
    "    writer.writerow( [None] + Sample_Name_list)\n",
    "    for idx_row in range(len(gene_list)):\n",
    "        row = list(MATRIX[idx_row, :])\n",
    "        writer.writerow([gene_list[idx_row] ] + row)"
   ]
  },
  {
   "cell_type": "code",
   "execution_count": 59,
   "id": "f4316352-56df-4f94-a958-392748c5a5ac",
   "metadata": {},
   "outputs": [],
   "source": [
    "## Use sPCA to run clustering\n",
    "import numpy as np\n",
    "import pandas as pd\n",
    "import warnings\n",
    "import os\n",
    "import sys\n",
    "from sklearn.decomposition import NMF\n",
    "from sklearn.manifold import TSNE\n",
    "from sklearn.cluster import KMeans\n",
    "from sklearn.preprocessing import StandardScaler\n",
    "from sklearn.metrics import adjusted_rand_score, normalized_mutual_info_score"
   ]
  },
  {
   "cell_type": "code",
   "execution_count": 60,
   "id": "9d9eae56-5721-4971-924b-ad123c2d8542",
   "metadata": {},
   "outputs": [],
   "source": [
    "from sPCA import SPCA_cal_projections"
   ]
  },
  {
   "cell_type": "code",
   "execution_count": 61,
   "id": "95de9bec-270b-4cf6-a587-e1311398a955",
   "metadata": {},
   "outputs": [
    {
     "data": {
      "text/plain": [
       "'/home/m1deng/BIPN 162 Project'"
      ]
     },
     "execution_count": 61,
     "metadata": {},
     "output_type": "execute_result"
    }
   ],
   "source": [
    "import os\n",
    "os.getcwd()"
   ]
  },
  {
   "cell_type": "code",
   "execution_count": 105,
   "id": "ea624409-3ddd-4075-8a66-6cd705ee0afe",
   "metadata": {},
   "outputs": [],
   "source": [
    "# ---- Load data (update paths as needed) ----\n",
    "X = pd.read_csv('/home/m1deng/BIPN 162 Project/GSE82187_output/GSE82187_full_X.csv', index_col=0).values\n",
    "y = pd.read_csv('/home/m1deng/BIPN 162 Project/GSE82187_output/GSE82187_full_labels.csv')['Label'].values"
   ]
  },
  {
   "cell_type": "code",
   "execution_count": 106,
   "id": "33f86fe0-4b8a-4ba1-8e00-c4a0c9dd04ae",
   "metadata": {},
   "outputs": [],
   "source": [
    "# === Transpose to (features × samples) ===\n",
    "X = X.T\n",
    "\n",
    "# === Log-transform and filter low-variance genes ===\n",
    "log_X = np.log(X + 1)\n",
    "log_X[log_X < 1e-6] = 0\n",
    "\n",
    "row_variances = np.var(log_X, axis=1)\n",
    "threshold = np.percentile(row_variances, 25)\n",
    "filtered_X = log_X[row_variances >= threshold]"
   ]
  },
  {
   "cell_type": "code",
   "execution_count": 107,
   "id": "6be8ffda-f250-4b1f-b93f-6947b07ca410",
   "metadata": {},
   "outputs": [],
   "source": [
    "# modified\n",
    "# y = y[row_variances >= threshold]"
   ]
  },
  {
   "cell_type": "code",
   "execution_count": 123,
   "id": "88d95e99-e2f8-4632-ab07-74c440ce1ac5",
   "metadata": {},
   "outputs": [],
   "source": [
    "# === Filter out rare classes (< 15 cells) ===\n",
    "filtered_X_T = filtered_X.T\n",
    "unique_classes, class_counts = np.unique(y, return_counts=True)\n",
    "rare_classes = unique_classes[class_counts < 15]\n",
    "mask = ~np.isin(y, rare_classes)"
   ]
  },
  {
   "cell_type": "code",
   "execution_count": 109,
   "id": "72604c19-a888-45c8-9486-93965eb0ff19",
   "metadata": {},
   "outputs": [
    {
     "data": {
      "text/plain": [
       "array([107,  18,  21,  71,  48,   7, 334,  13,  43,  43])"
      ]
     },
     "execution_count": 109,
     "metadata": {},
     "output_type": "execute_result"
    }
   ],
   "source": [
    "class_counts"
   ]
  },
  {
   "cell_type": "code",
   "execution_count": 110,
   "id": "8a675ad5-7c01-44b1-afe0-4388d650b722",
   "metadata": {},
   "outputs": [
    {
     "name": "stdout",
     "output_type": "stream",
     "text": [
      "filtered_X shape: (529, 18840)\n",
      "mask shape: (705,)\n",
      "y shape: (705,)\n"
     ]
    }
   ],
   "source": [
    "print('filtered_X shape:', filtered_X.shape)\n",
    "print('mask shape:', mask.shape)\n",
    "print('y shape:', y.shape)"
   ]
  },
  {
   "cell_type": "code",
   "execution_count": 124,
   "id": "57af761c-5e8b-4b69-8f85-7766f4d578dd",
   "metadata": {},
   "outputs": [],
   "source": [
    "# MODIFIED\n",
    "# X_filtered = filtered_X[mask, :]   # X_filtered: (filtered samples × genes)\n",
    "X_filtered = log_X[mask, :]   # X_filtered: (filtered samples × genes)\n",
    "y_filtered = y[mask]               # y_filtered: (filtered samples,)\n",
    "\n",
    "scaler = StandardScaler()\n",
    "X_normalized = scaler.fit_transform(X_filtered).T  # (genes × samples)"
   ]
  },
  {
   "cell_type": "code",
   "execution_count": 125,
   "id": "22beb2b2-71d3-49cd-a4a1-4076ac5e10ee",
   "metadata": {},
   "outputs": [
    {
     "data": {
      "text/plain": [
       "(685, 18840)"
      ]
     },
     "execution_count": 125,
     "metadata": {},
     "output_type": "execute_result"
    }
   ],
   "source": [
    "X_filtered.shape"
   ]
  },
  {
   "cell_type": "code",
   "execution_count": 126,
   "id": "33eba59f-227e-4028-9e81-0777e3c51517",
   "metadata": {},
   "outputs": [
    {
     "data": {
      "text/plain": [
       "(685,)"
      ]
     },
     "execution_count": 126,
     "metadata": {},
     "output_type": "execute_result"
    }
   ],
   "source": [
    "y_filtered.shape"
   ]
  },
  {
   "cell_type": "code",
   "execution_count": 127,
   "id": "fe074c50-222d-44b1-8482-7582b68560ca",
   "metadata": {},
   "outputs": [
    {
     "name": "stdout",
     "output_type": "stream",
     "text": [
      "CPU times: user 10min 25s, sys: 3.33 s, total: 10min 29s\n",
      "Wall time: 5min 18s\n"
     ]
    }
   ],
   "source": [
    "%%time\n",
    "from tPCA import RpLSPCA_cal_projections_KNN\n",
    "# === Run tPCA ===\n",
    "zeta = np.array([1.0, 0.5, 0.3333333, 0.25, 0.20, 0.16666667, 0.14285714, 0.125])\n",
    "PDM = RpLSPCA_cal_projections_KNN(X_normalized.T, 60.0, 100000.0, 8, 15, zeta)\n",
    "PDM = np.asarray(PDM)"
   ]
  },
  {
   "cell_type": "code",
   "execution_count": 128,
   "id": "a5be21dd-0713-4ca5-a38c-03419375fdae",
   "metadata": {},
   "outputs": [],
   "source": [
    "# === Project data into k-dimensional space ===\n",
    "TM = ((np.linalg.inv(PDM.T @ PDM)) @ (PDM.T)).T\n",
    "Q = (X_normalized.T @ TM)"
   ]
  },
  {
   "cell_type": "code",
   "execution_count": 129,
   "id": "20b3405e-cf3b-492b-b7a1-73e98355a2c5",
   "metadata": {},
   "outputs": [],
   "source": [
    "# === Run KMeans clustering ===\n",
    "ARI_scores = []\n",
    "NMI_scores = []\n",
    "n_runs = 30\n",
    "\n",
    "for seed in range(n_runs):\n",
    "    kmeans = KMeans(n_clusters=k, n_init=150, random_state=seed)\n",
    "    labels = kmeans.fit_predict(Q)\n",
    "    ari = adjusted_rand_score(y_filtered, labels)\n",
    "    nmi = normalized_mutual_info_score(y_filtered, labels)\n",
    "    ARI_scores.append(ari)\n",
    "    NMI_scores.append(nmi)"
   ]
  },
  {
   "cell_type": "code",
   "execution_count": 130,
   "id": "0c16da06-c7d9-47c7-899e-2e057c54fc72",
   "metadata": {},
   "outputs": [
    {
     "name": "stdout",
     "output_type": "stream",
     "text": [
      "KNN_tPCA Clustering Results (Average of 30 runs):\n",
      "ARI: 0.9572\n",
      "NMI: 0.9427\n"
     ]
    }
   ],
   "source": [
    "# === Print averaged results (tPCA) ===\n",
    "print('KNN_tPCA Clustering Results (Average of 30 runs):')\n",
    "print(f'ARI: {np.mean(ARI_scores):.4f}')\n",
    "print(f'NMI: {np.mean(NMI_scores):.4f}')"
   ]
  },
  {
   "cell_type": "code",
   "execution_count": null,
   "id": "bac3d27c-48fc-4dde-859b-f0ccac985658",
   "metadata": {},
   "outputs": [],
   "source": []
  },
  {
   "cell_type": "code",
   "execution_count": 85,
   "id": "3321f883-5d7d-42ed-9d9c-9d3f4eee0935",
   "metadata": {},
   "outputs": [],
   "source": [
    "# === Run sPCA ===\n",
    "k = len(np.unique(y_filtered))     # Number of clusters\n",
    "beta = 0.1                         # Set sparsity level (you can tune this)\n",
    "\n",
    "PDM = SPCA_cal_projections(X_normalized.T, beta, k) # sPCA expects (features × samples)\n",
    "PDM = np.asarray(PDM)"
   ]
  },
  {
   "cell_type": "code",
   "execution_count": 86,
   "id": "a095fc4a-6ee8-4a53-b2c9-c15c7fa8da89",
   "metadata": {},
   "outputs": [],
   "source": [
    "# === Project data into k-dimensional space ===\n",
    "TM = ((np.linalg.inv(PDM.T @ PDM)) @ (PDM.T)).T\n",
    "Q = (X_normalized.T @ TM)"
   ]
  },
  {
   "cell_type": "code",
   "execution_count": 87,
   "id": "3a7fd0c3-3dac-42a6-8c00-c24eb8480793",
   "metadata": {},
   "outputs": [],
   "source": [
    "# === Run KMeans clustering ===\n",
    "ARI_scores = []\n",
    "NMI_scores = []\n",
    "n_runs = 30\n",
    "\n",
    "for seed in range(n_runs):\n",
    "    kmeans = KMeans(n_clusters=k, n_init=150, random_state=seed)\n",
    "    labels = kmeans.fit_predict(Q)\n",
    "    ari = adjusted_rand_score(y_filtered, labels)\n",
    "    nmi = normalized_mutual_info_score(y_filtered, labels)\n",
    "    ARI_scores.append(ari)\n",
    "    NMI_scores.append(nmi)"
   ]
  },
  {
   "cell_type": "code",
   "execution_count": 88,
   "id": "3a21d709-1fac-4974-b88e-5c4fca6b63f2",
   "metadata": {},
   "outputs": [
    {
     "name": "stdout",
     "output_type": "stream",
     "text": [
      "sPCA Clustering Results (Average of 30 runs):\n",
      "ARI: 0.9800\n",
      "NMI: 0.9590\n"
     ]
    }
   ],
   "source": [
    "# === Print averaged results ===\n",
    "print('sPCA Clustering Results (Average of 30 runs):')\n",
    "print(f'ARI: {np.mean(ARI_scores):.4f}')\n",
    "print(f'NMI: {np.mean(NMI_scores):.4f}')"
   ]
  },
  {
   "cell_type": "code",
   "execution_count": null,
   "id": "2604a0e9-04d8-48d2-a265-269c2b818aef",
   "metadata": {},
   "outputs": [],
   "source": []
  },
  {
   "cell_type": "code",
   "execution_count": 116,
   "id": "91e51fd3-aacc-4df6-bc12-95036c5fb48e",
   "metadata": {},
   "outputs": [
    {
     "name": "stdout",
     "output_type": "stream",
     "text": [
      "sPCA Clustering Results (Average of 30 runs):\n",
      "ARI: 0.7411\n",
      "NMI: 0.8797\n"
     ]
    }
   ],
   "source": [
    "# OLD RESULT\n",
    "# === Print averaged results ===\n",
    "print('sPCA Clustering Results (Average of 30 runs):')\n",
    "print(f'ARI: {np.mean(ARI_scores):.4f}')\n",
    "print(f'NMI: {np.mean(NMI_scores):.4f}')"
   ]
  }
 ],
 "metadata": {
  "kernelspec": {
   "display_name": "Python 3 (ipykernel)",
   "language": "python",
   "name": "python3"
  },
  "language_info": {
   "codemirror_mode": {
    "name": "ipython",
    "version": 3
   },
   "file_extension": ".py",
   "mimetype": "text/x-python",
   "name": "python",
   "nbconvert_exporter": "python",
   "pygments_lexer": "ipython3",
   "version": "3.11.9"
  }
 },
 "nbformat": 4,
 "nbformat_minor": 5
}
