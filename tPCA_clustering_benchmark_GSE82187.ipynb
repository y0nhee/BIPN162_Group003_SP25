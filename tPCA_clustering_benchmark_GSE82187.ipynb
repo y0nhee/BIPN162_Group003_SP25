{
 "cells": [
  {
   "cell_type": "code",
   "execution_count": 28,
   "id": "147cbce9-12bd-44ff-852e-577b778c0e67",
   "metadata": {},
   "outputs": [],
   "source": [
    "import sys\n",
    "sys.path.append('/home/yoeu/BIPN 162/data for BIPN 162 project/Topological-PCA/Model')\n",
    "\n",
    "from tPCA import RpLSPCA_cal_projections\n",
    "\n",
    "import pandas as pd\n",
    "\n",
    "class ParameterWrapper:\n",
    "    def __init__(self, csv_path):\n",
    "        self.df = pd.read_csv(csv_path, index_col=0)\n",
    "\n",
    "    def get_parameters(self, dataset_name):\n",
    "        return self.df.loc[dataset_name]\n",
    "\n",
    "# ✅ DO NOT import it again\n",
    "# from wrapper import ParameterWrapper  ← REMOVE THIS\n"
   ]
  },
  {
   "cell_type": "code",
   "execution_count": 14,
   "id": "464f713a-cdb3-48a5-a449-449a20989d78",
   "metadata": {
    "scrolled": true
   },
   "outputs": [
    {
     "name": "stdout",
     "output_type": "stream",
     "text": [
      "tPCA ARI: -0.0232\n",
      "tPCA NMI: 0.0036\n"
     ]
    }
   ],
   "source": [
    "import sys\n",
    "sys.path.append('/home/yoeu/BIPN 162/data for BIPN 162 project/Topological-PCA/Model')\n",
    "\n",
    "from tPCA import RpLSPCA_cal_projections\n",
    "\n",
    "import numpy as np\n",
    "import pandas as pd\n",
    "from sklearn.preprocessing import StandardScaler\n",
    "from sklearn.metrics import adjusted_rand_score, normalized_mutual_info_score\n",
    "import os\n",
    "\n",
    "# Define ParameterWrapper inline\n",
    "class ParameterWrapper:\n",
    "    def __init__(self, csv_path):\n",
    "        self.df = pd.read_csv(csv_path, index_col=0)\n",
    "\n",
    "    def get_parameters(self, dataset_name):\n",
    "        return self.df.loc[dataset_name]\n",
    "\n",
    "# Utility Functions\n",
    "def computeClusterScore(y, label):\n",
    "    ari = adjusted_rand_score(y, label)\n",
    "    nmi = normalized_mutual_info_score(y, label)\n",
    "    return ari, nmi\n",
    "\n",
    "def computeKMeans(X, y, max_state=30):\n",
    "    from sklearn.cluster import KMeans\n",
    "    X_scaled = StandardScaler().fit_transform(X)\n",
    "    n_clusters = np.unique(y).shape[0]\n",
    "    ARI, NMI = [], []\n",
    "\n",
    "    for state in range(max_state):\n",
    "        km = KMeans(n_clusters=n_clusters, n_init=10, random_state=state)\n",
    "        labels = km.fit_predict(X_scaled)\n",
    "        ari, nmi = computeClusterScore(y, labels)\n",
    "        ARI.append(ari)\n",
    "        NMI.append(nmi)\n",
    "    return np.mean(ARI), np.mean(NMI)\n",
    "\n",
    "def load_data(dataset_name, root_path):\n",
    "    inpath = os.path.join(root_path, 'Tests', dataset_name)\n",
    "    X = pd.read_csv(f\"{inpath}/{dataset_name}_full_X.csv\").values.astype(float)\n",
    "    y = pd.read_csv(f\"{inpath}/{dataset_name}_full_labels.csv\")['Label'].values.astype(int)\n",
    "    return X, y\n",
    "\n",
    "# Main analysis function\n",
    "def run_tPCA_clustering(dataset_name):\n",
    "    root_path = '/home/yoeu/BIPN 162'\n",
    "    X, y = load_data(dataset_name, root_path)\n",
    "    X = X[:50, :]\n",
    "    y = y[:50]\n",
    "\n",
    "    # Normalize counts if needed\n",
    "    if dataset_name in ['GSE67835', 'GSE84133human1', 'GSE84133human2', 'GSE84133human3', 'GSE84133mouse1', 'GSE84133mouse2']:\n",
    "        scaling_factors = 1e4 / np.sum(X, axis=0)\n",
    "        X = scaling_factors * X\n",
    "\n",
    "    # Assume original X is (cells, genes)\n",
    "    log_X = np.log(X + 1)\n",
    "    log_X[log_X < 1e-6] = 0\n",
    "\n",
    "# Transpose so that genes are rows: (genes, cells)\n",
    "    log_X_T = log_X.T  # shape: (genes, cells)\n",
    "\n",
    "# Filter low-variance genes\n",
    "    row_var = np.var(log_X_T, axis=1)\n",
    "    threshold = np.percentile(row_var, 50)\n",
    "    filtered_X_T = log_X_T[row_var >= threshold]  # shape: (filtered_genes, cells)\n",
    "\n",
    "# Now transpose back to (cells, genes)\n",
    "    filtered_X = filtered_X_T.T  # shape: (cells, filtered_genes)\n",
    "\n",
    "# Filter out rare classes\n",
    "    unique_classes, class_counts = np.unique(y, return_counts=True)\n",
    "    mask = np.isin(y, unique_classes[class_counts >= 15])\n",
    "\n",
    "    X_filtered = filtered_X[mask, :]  # rows = filtered cells\n",
    "    y_filtered = y[mask]\n",
    "\n",
    "    # ✅ Subsample AFTER filtering\n",
    "    max_cells = min(50, X_filtered.shape[0])\n",
    "    max_genes = min(50, X_filtered.shape[1])\n",
    "\n",
    "    X_filtered = X_filtered[:max_cells, :max_genes]\n",
    "    y_filtered = y_filtered[:max_cells]\n",
    "\n",
    "    # Standardize\n",
    "    scaler = StandardScaler()\n",
    "    X_normalized = scaler.fit_transform(X_filtered)\n",
    "\n",
    "    # Load parameters\n",
    "    # Load parameters\n",
    "    param_file = '/home/yoeu/BIPN 162/data for BIPN 162 project/Topological-PCA/Tests/paramvals_tPCA_patched.csv'\n",
    "    param_wrapper = ParameterWrapper(param_file)\n",
    "    params = param_wrapper.get_parameters(dataset_name)\n",
    "    k = len(np.unique(y_filtered))\n",
    "\n",
    "# ✅ Dynamically load zeta values\n",
    "    zeta_keys = sorted([key for key in params.index if key.startswith('zeta')],\n",
    "                   key=lambda x: int(x.replace('zeta', '')))\n",
    "    zeta = np.array([float(params[key]) for key in zeta_keys])\n",
    "\n",
    "# Other parameters\n",
    "    gamma = float(params['gamma'])\n",
    "    beta = float(params['beta'])\n",
    "    # Run tPCA\n",
    "    PDM = RpLSPCA_cal_projections(X_normalized, beta, gamma, k, zeta)\n",
    "    TM = ((np.linalg.inv(PDM.T @ PDM)) @ (PDM.T)).T\n",
    "    Q = X_normalized @ TM\n",
    "\n",
    "    # Clustering\n",
    "    ari, nmi = computeKMeans(Q, y_filtered)\n",
    "    print(f\"tPCA ARI: {ari:.4f}\")\n",
    "    print(f\"tPCA NMI: {nmi:.4f}\")\n",
    "run_tPCA_clustering('GSE82187')"
   ]
  },
  {
   "cell_type": "code",
   "execution_count": 2,
   "id": "3c84f9b5-dff3-4dc7-9032-a567a6afc616",
   "metadata": {},
   "outputs": [
    {
     "data": {
      "text/plain": [
       "Index(['0610005C13Rik', '0610007C21Rik', '0610007L01Rik', '0610007N19Rik',\n",
       "       '0610007P08Rik', '0610007P14Rik', '0610007P22Rik', '0610009B22Rik',\n",
       "       '0610009D07Rik', '0610009L18Rik'],\n",
       "      dtype='object')"
      ]
     },
     "execution_count": 2,
     "metadata": {},
     "output_type": "execute_result"
    }
   ],
   "source": [
    "df = pd.read_csv('/home/yoeu/BIPN 162/Tests/GSE82187/GSE82187_full_X.csv')\n",
    "df.columns[:10]  # show first few column names\n"
   ]
  },
  {
   "cell_type": "code",
   "execution_count": null,
   "id": "5f1a0fe8-6836-42a7-9d05-f5209df53f00",
   "metadata": {},
   "outputs": [],
   "source": []
  }
 ],
 "metadata": {
  "kernelspec": {
   "display_name": "Python 3 (ipykernel)",
   "language": "python",
   "name": "python3"
  },
  "language_info": {
   "codemirror_mode": {
    "name": "ipython",
    "version": 3
   },
   "file_extension": ".py",
   "mimetype": "text/x-python",
   "name": "python",
   "nbconvert_exporter": "python",
   "pygments_lexer": "ipython3",
   "version": "3.11.9"
  }
 },
 "nbformat": 4,
 "nbformat_minor": 5
}
